{
 "cells": [
  {
   "cell_type": "code",
   "execution_count": 1,
   "metadata": {},
   "outputs": [],
   "source": [
    "import pandas as pd\n",
    "import numpy as np"
   ]
  },
  {
   "cell_type": "code",
   "execution_count": 2,
   "metadata": {},
   "outputs": [],
   "source": [
    "def sigmoid(Z):\n",
    "    return 1/(1+np.exp(-Z))\n",
    "\n",
    "def relu(X):\n",
    "    return np.maximum(0,X)\n",
    "\n",
    "def tanh(x):\n",
    "    return np.tanh(x)"
   ]
  },
  {
   "cell_type": "code",
   "execution_count": 3,
   "metadata": {},
   "outputs": [],
   "source": [
    "def derivative_of_relu(X):\n",
    "    return X>0"
   ]
  },
  {
   "cell_type": "code",
   "execution_count": 4,
   "metadata": {},
   "outputs": [],
   "source": [
    "def weight_and_bias_init(layers_dimension):\n",
    "    parameters={}\n",
    "    for i in range(1,len(layers_dimension)):\n",
    "        parameters[\"W\"+str(i)]=np.random.randn(layers_dimension[i],layers_dimension[i-1])*0.01\n",
    "        parameters[\"b\"+str(i)]=np.zeros((layers_dimension[i],1))\n",
    "        \n",
    "    return parameters\n",
    "        "
   ]
  },
  {
   "cell_type": "code",
   "execution_count": 5,
   "metadata": {},
   "outputs": [],
   "source": [
    "parameters=weight_and_bias_init([3,2,1])"
   ]
  },
  {
   "cell_type": "code",
   "execution_count": 6,
   "metadata": {},
   "outputs": [],
   "source": [
    "def forward_propagation(parameters,X,Y):\n",
    "    layers=len(parameters)//2\n",
    "    cache={}\n",
    "    A_prev=X\n",
    "    m=X.shape[1]\n",
    "    \n",
    "    for i in range(1,layers):\n",
    "        Z=np.dot(parameters[\"W\"+str(i)],A_prev)+parameters[\"b\"+str(i)]\n",
    "        A=relu(Z)\n",
    "        cache[\"Z\"+str(i)]=Z\n",
    "        cache[\"A\"+str(i)]=A\n",
    "        A_prev=A\n",
    "        \n",
    "    Z=np.dot(parameters[\"W\"+str(i+1)],A_prev)+parameters[\"b\"+str(i+1)]\n",
    "    Yp=sigmoid(Z)\n",
    "    cache[\"Z\"+str(i+1)]=Z\n",
    "    cache[\"A\"+str(i+1)]=Yp\n",
    "    \n",
    "    cost=-(1/m)*np.sum(Y*np.log(Yp)+((1-Y)*np.log(1-Yp)))\n",
    "    \n",
    "    return cost,cache\n",
    "    "
   ]
  },
  {
   "cell_type": "code",
   "execution_count": 7,
   "metadata": {},
   "outputs": [],
   "source": [
    "X=np.random.randn(3,4)"
   ]
  },
  {
   "cell_type": "code",
   "execution_count": 8,
   "metadata": {},
   "outputs": [
    {
     "data": {
      "text/plain": [
       "(3, 4)"
      ]
     },
     "execution_count": 8,
     "metadata": {},
     "output_type": "execute_result"
    }
   ],
   "source": [
    "X.shape"
   ]
  },
  {
   "cell_type": "code",
   "execution_count": 9,
   "metadata": {},
   "outputs": [
    {
     "data": {
      "text/plain": [
       "array([[ 0.01193693,  0.00032301],\n",
       "       [ 0.00869133, -0.00667864],\n",
       "       [-0.01753484, -0.01260658]])"
      ]
     },
     "execution_count": 9,
     "metadata": {},
     "output_type": "execute_result"
    }
   ],
   "source": [
    "parameters[\"W1\"].T"
   ]
  },
  {
   "cell_type": "code",
   "execution_count": 10,
   "metadata": {},
   "outputs": [],
   "source": [
    "Y=np.array([1,0,0,1])"
   ]
  },
  {
   "cell_type": "code",
   "execution_count": 11,
   "metadata": {},
   "outputs": [],
   "source": [
    "\n",
    "cost,cache=forward_propagation(parameters,X,Y)"
   ]
  },
  {
   "cell_type": "code",
   "execution_count": 12,
   "metadata": {},
   "outputs": [
    {
     "data": {
      "text/plain": [
       "{'Z1': array([[ 0.00460573,  0.01456952,  0.00812194,  0.01255274],\n",
       "        [-0.01729967, -0.00087828,  0.00342449,  0.02513075]]),\n",
       " 'A1': array([[0.00460573, 0.01456952, 0.00812194, 0.01255274],\n",
       "        [0.        , 0.        , 0.00342449, 0.02513075]]),\n",
       " 'Z2': array([[6.76325665e-05, 2.13945292e-04, 1.08104583e-04, 1.02420926e-04]]),\n",
       " 'A2': array([[0.50001691, 0.50005349, 0.50002703, 0.50002561]])}"
      ]
     },
     "execution_count": 12,
     "metadata": {},
     "output_type": "execute_result"
    }
   ],
   "source": [
    "cache"
   ]
  },
  {
   "cell_type": "code",
   "execution_count": 13,
   "metadata": {},
   "outputs": [],
   "source": [
    "# # for i in range(1,2):\n",
    "#     print(parameters[\"W\"+str(i)].shape)"
   ]
  },
  {
   "cell_type": "code",
   "execution_count": 14,
   "metadata": {},
   "outputs": [],
   "source": [
    "# for i in range(1,3):\n",
    "#     print(cache[\"A\"+str(i)].shape)"
   ]
  },
  {
   "cell_type": "code",
   "execution_count": 15,
   "metadata": {},
   "outputs": [
    {
     "data": {
      "text/plain": [
       "{'W1': array([[ 0.01193693,  0.00869133, -0.01753484],\n",
       "        [ 0.00032301, -0.00667864, -0.01260658]]), 'b1': array([[0.],\n",
       "        [0.]]), 'W2': array([[ 0.01468444, -0.00325931]]), 'b2': array([[0.]])}"
      ]
     },
     "execution_count": 15,
     "metadata": {},
     "output_type": "execute_result"
    }
   ],
   "source": [
    "parameters"
   ]
  },
  {
   "cell_type": "code",
   "execution_count": 16,
   "metadata": {},
   "outputs": [],
   "source": [
    "# def backward_propagation(X,Y,cache,parameters):\n",
    "#     n_layers=len(cache)//2\n",
    "#     backprob={}\n",
    "#     m=X.shape[1]\n",
    "    \n",
    "#     backprob[\"dZ\"+str(n_layers)]=cache[\"A\"+str(n_layers)]-Y\n",
    "#     backprob[\"dW\"+str(n_layers)]=(1/m)*np.dot(backprob[\"dZ\"+str(n_layers)],cache[\"A\"+str(n_layers-1)].T)\n",
    "#     backprob[\"db\"+str(n_layers)]=(1/m)*np.sum(backprob[\"dZ\"+str(n_layers)],axis=1,keepdims=True)\n",
    "#     for layers in range(n_layers-1,0,-1):\n",
    "#         print(layers)\n",
    "#         if layers>1:\n",
    "#             backprob[\"dA\"+str(layers)]=np.dot(parameters[\"W\"+str(layers+1)].T,backprob[\"dW\"+str(layers+1)])\n",
    "#             backprob[\"dZ\"+str(layers)]=np.multiply(backprob[\"dA\"+str(layers)],derivative_of_relu(cache[\"A\"+str(layers)]))\n",
    "#             backprob[\"dW\"+str(layers)]=(1/m)*np.dot(backprob[\"dZ\"+str(layers)],cache[\"A\"+str(layers-1)].T)\n",
    "#             backprob[\"db\"+str(layers)]=(1/m)*np.sum(backprob[\"dZ\"+str(layers)],axis=0,keepdims=True)\n",
    "# #         else:\n",
    "# #             backprob[\"dA\"+str(layers)]=np.dot(parameters[\"W\"+str(layers+1)],backprob[\"dW\"+str(layers+1)])\n",
    "# #             backprob[\"dZ\"+str(layers)]=np.multiply(backprob[\"dA\"+str(layers)],derivative_of_relu(cache[\"A\"+str(layers)]))\n",
    "# #             backprob[\"dW\"+str(layers)]=(1/m)*np.dot(backprob[\"dZ\"+str(layers)],X.T)\n",
    "# #             backprob[\"db\"+str(layers)]=(1/m)*np.sum(backprob[\"dZ\"+str(layers)],axis=1,keepdims=True)\n",
    "            \n",
    "            \n",
    "#     return backprob\n",
    "            \n",
    "        \n",
    "        \n",
    "    \n",
    "    \n",
    "    \n",
    "    "
   ]
  },
  {
   "cell_type": "code",
   "execution_count": 17,
   "metadata": {},
   "outputs": [
    {
     "data": {
      "text/plain": [
       "dict_keys(['W1', 'b1', 'W2', 'b2'])"
      ]
     },
     "execution_count": 17,
     "metadata": {},
     "output_type": "execute_result"
    }
   ],
   "source": [
    "parameters.keys()"
   ]
  },
  {
   "cell_type": "code",
   "execution_count": 18,
   "metadata": {},
   "outputs": [
    {
     "data": {
      "text/plain": [
       "dict_keys(['Z1', 'A1', 'Z2', 'A2'])"
      ]
     },
     "execution_count": 18,
     "metadata": {},
     "output_type": "execute_result"
    }
   ],
   "source": [
    "cache.keys()"
   ]
  },
  {
   "cell_type": "code",
   "execution_count": 19,
   "metadata": {},
   "outputs": [],
   "source": [
    "def backward_propagation(X,Y,cache,parameters):\n",
    "    layers=len(cache)//2\n",
    "    bp={}\n",
    "    m=X.shape[1]\n",
    "    AL=cache[\"A\"+str(layers)]\n",
    "    AL_1=cache[\"A\"+str(layers-1)]\n",
    "    dZ=AL-Y\n",
    "    dW = 1. / m * np.dot(dZ,AL_1.T)\n",
    "    db = 1. / m * np.sum(dZ, axis=1, keepdims=True)\n",
    "    \n",
    "    bp[\"dZ\"+str(layers)]=dZ\n",
    "    bp[\"dW\"+str(layers)]=dW\n",
    "    bp[\"db\"+str(layers)]=db\n",
    "    for i in range(layers-1,0,-1):\n",
    "        dZ=bp[\"dZ\"+str(i+1)]\n",
    "        W=parameters[\"W\"+str(i+1)]\n",
    "        A=cache[\"A\"+str(i)]\n",
    "        if i > 1:\n",
    "            AL_1=cache[\"A\"+str(i-1)]\n",
    "        else:\n",
    "            AL_1=X\n",
    "            \n",
    "        dA=np.dot(W.T,dZ)\n",
    "        dZ=np.multiply(dA,derivative_of_relu(A))\n",
    "        dW=1. / m * np.dot(dZ,AL_1.T)\n",
    "        db = 1. / m * np.sum(dZ, axis=1, keepdims=True)\n",
    "        \n",
    "        bp[\"dZ\"+str(i)]=dZ\n",
    "        bp[\"dW\"+str(i)]=dW\n",
    "        bp[\"db\"+str(i)]=db\n",
    "        \n",
    "        \n",
    "        \n",
    "    return bp\n",
    "        \n",
    "        \n",
    "        \n",
    "        \n",
    "        \n",
    "        "
   ]
  },
  {
   "cell_type": "code",
   "execution_count": 20,
   "metadata": {},
   "outputs": [
    {
     "data": {
      "text/plain": [
       "{'dZ2': array([[-0.49998309,  0.50005349,  0.50002703, -0.49997439]]),\n",
       " 'dW2': array([[ 0.00069197, -0.0027131 ]]),\n",
       " 'db2': array([[3.07564604e-05]]),\n",
       " 'dZ1': array([[-0.00734197,  0.00734301,  0.00734262, -0.00734184],\n",
       "        [ 0.        , -0.        , -0.00162975,  0.00162957]]),\n",
       " 'dW1': array([[-0.00274453,  0.00306884, -0.00092674],\n",
       "        [ 0.00039053, -0.00083318, -0.00025004]]),\n",
       " 'db1': array([[ 4.51641392e-07],\n",
       "        [-4.28855589e-08]])}"
      ]
     },
     "execution_count": 20,
     "metadata": {},
     "output_type": "execute_result"
    }
   ],
   "source": [
    "backward_propagation(X,Y,cache,parameters)"
   ]
  },
  {
   "cell_type": "code",
   "execution_count": 21,
   "metadata": {},
   "outputs": [],
   "source": [
    "def model_(X,Y,layers,lr=0.01,itern=100):\n",
    "    \n",
    "    parameters=weight_and_bias_init(layers)\n",
    "    \n",
    "    para=parameters.copy()\n",
    "    for i in range(itern):\n",
    "        cost,cache=forward_propagation(para,X,Y)\n",
    "        if i%10==0 or i==itern-1:\n",
    "            print(f\"Epoch {i} cost {cost}\" )\n",
    "        \n",
    "        backward=backward_propagation(X,Y,cache,para)\n",
    "        \n",
    "        for j in range((len(cache)//2),0,-1):\n",
    "            dW=backward[\"dW\"+str(j)]\n",
    "            db=backward[\"db\"+str(j)]\n",
    "            W=para[\"W\"+str(j)]\n",
    "            b=para[\"b\"+str(j)]\n",
    "            \n",
    "            W=W-lr*dW\n",
    "            b=b-lr*db\n",
    "            para[\"W\"+str(j)]=W\n",
    "            para[\"b\"+str(j)]=b\n",
    "            \n",
    "            \n",
    "    return para\n",
    "            \n",
    "            \n",
    "        \n",
    "    "
   ]
  },
  {
   "cell_type": "code",
   "execution_count": 22,
   "metadata": {},
   "outputs": [
    {
     "data": {
      "text/plain": [
       "{'W1': array([[ 0.01193693,  0.00869133, -0.01753484],\n",
       "        [ 0.00032301, -0.00667864, -0.01260658]]), 'b1': array([[0.],\n",
       "        [0.]]), 'W2': array([[ 0.01468444, -0.00325931]]), 'b2': array([[0.]])}"
      ]
     },
     "execution_count": 22,
     "metadata": {},
     "output_type": "execute_result"
    }
   ],
   "source": [
    "parameters"
   ]
  },
  {
   "cell_type": "code",
   "execution_count": 23,
   "metadata": {},
   "outputs": [
    {
     "data": {
      "text/plain": [
       "(784, 999)"
      ]
     },
     "execution_count": 23,
     "metadata": {},
     "output_type": "execute_result"
    }
   ],
   "source": [
    "Xdf=pd.read_csv(\"train_X.csv\").values.T\n",
    "Ydf=pd.read_csv(\"train_label.csv\").values.T\n",
    "Xdf.shape\n"
   ]
  },
  {
   "cell_type": "code",
   "execution_count": 24,
   "metadata": {},
   "outputs": [],
   "source": [
    "def predict(Xtest,parameters):\n",
    "    layers=len(parameters)//2\n",
    "    cache={}\n",
    "    A_prev=Xtest\n",
    "    m=Xtest.shape[1]\n",
    "    \n",
    "    for i in range(1,layers):\n",
    "        Z=np.dot(parameters[\"W\"+str(i)],A_prev)+parameters[\"b\"+str(i)]\n",
    "        A=relu(Z)\n",
    "        cache[\"Z\"+str(i)]=Z\n",
    "        cache[\"A\"+str(i)]=A\n",
    "        A_prev=A\n",
    "        \n",
    "    Z=np.dot(parameters[\"W\"+str(i+1)],A_prev)+parameters[\"b\"+str(i+1)]\n",
    "    Yp=sigmoid(Z)\n",
    "    cache[\"Z\"+str(i+1)]=Z\n",
    "    cache[\"A\"+str(i+1)]=Yp\n",
    "    \n",
    "    return Yp"
   ]
  },
  {
   "cell_type": "code",
   "execution_count": 26,
   "metadata": {},
   "outputs": [
    {
     "name": "stdout",
     "output_type": "stream",
     "text": [
      "Epoch 0 cost 6.955481701599342\n",
      "Epoch 10 cost 3.937631243232973\n",
      "Epoch 20 cost 3.4214328490459294\n",
      "Epoch 30 cost 2.853556101789326\n",
      "Epoch 40 cost 2.1886854197582397\n",
      "Epoch 50 cost 1.684820278904016\n",
      "Epoch 60 cost 1.3492744847913032\n",
      "Epoch 70 cost 1.014266877801049\n",
      "Epoch 80 cost 0.9159234441737871\n",
      "Epoch 90 cost 0.9921583810432746\n",
      "Epoch 100 cost 0.6829787353300613\n",
      "Epoch 110 cost 0.5797469345247304\n",
      "Epoch 120 cost 0.4790734786742023\n",
      "Epoch 130 cost 0.44680080010769596\n",
      "Epoch 140 cost 0.3849218501524489\n",
      "Epoch 150 cost 0.2541629062016242\n",
      "Epoch 160 cost 0.2057351959546062\n",
      "Epoch 170 cost 0.17344931701084665\n",
      "Epoch 180 cost 0.14841083094435484\n",
      "Epoch 190 cost 0.12754665281365124\n",
      "Epoch 199 cost 0.10771153111498578\n"
     ]
    }
   ],
   "source": [
    "params=model_(Xdf,Ydf,[784,1000,500,60,10],lr=0.01,itern=200)"
   ]
  },
  {
   "cell_type": "code",
   "execution_count": 27,
   "metadata": {},
   "outputs": [],
   "source": [
    "xtest=pd.read_csv(\"test_X.csv\").values.T\n",
    "ytest=pd.read_csv(\"test_label.csv\").values.T\n"
   ]
  },
  {
   "cell_type": "code",
   "execution_count": 28,
   "metadata": {},
   "outputs": [],
   "source": [
    "YP=predict(xtest,params)"
   ]
  },
  {
   "cell_type": "code",
   "execution_count": 29,
   "metadata": {},
   "outputs": [
    {
     "name": "stdout",
     "output_type": "stream",
     "text": [
      "0\n",
      "8\n",
      "0\n",
      "0\n",
      "0\n",
      "0\n",
      "0\n",
      "0\n",
      "0\n"
     ]
    }
   ],
   "source": [
    "for i in range(1,10):\n",
    "    print(np.argmax(YP[:,i]))"
   ]
  },
  {
   "cell_type": "code",
   "execution_count": 30,
   "metadata": {},
   "outputs": [
    {
     "data": {
      "text/plain": [
       "(10, 349)"
      ]
     },
     "execution_count": 30,
     "metadata": {},
     "output_type": "execute_result"
    }
   ],
   "source": [
    "ytest.shape"
   ]
  },
  {
   "cell_type": "code",
   "execution_count": 31,
   "metadata": {},
   "outputs": [],
   "source": [
    "def accuracy(ytest,YP):\n",
    "    true=0\n",
    "    false=0\n",
    "    for i in range(349):\n",
    "        if np.argmax(YP[:,i])==np.argmax(ytest[:,i]):\n",
    "            true +=1\n",
    "        else:\n",
    "            false +=1\n",
    "            \n",
    "    print(\"Accuracy {:.2f}\".format((true*100)/(true+false)))\n",
    "        "
   ]
  },
  {
   "cell_type": "code",
   "execution_count": 32,
   "metadata": {},
   "outputs": [
    {
     "name": "stdout",
     "output_type": "stream",
     "text": [
      "Accuracy 88.54\n"
     ]
    }
   ],
   "source": [
    "model_no_reg=accuracy(ytest,YP)"
   ]
  },
  {
   "cell_type": "code",
   "execution_count": null,
   "metadata": {},
   "outputs": [],
   "source": []
  },
  {
   "cell_type": "code",
   "execution_count": 33,
   "metadata": {},
   "outputs": [],
   "source": [
    "import matplotlib.pyplot as plt"
   ]
  },
  {
   "cell_type": "code",
   "execution_count": 34,
   "metadata": {},
   "outputs": [
    {
     "name": "stdout",
     "output_type": "stream",
     "text": [
      "Actual\n"
     ]
    },
    {
     "data": {
      "image/png": "[encoded data removed]",
      "text/plain": [
       "<Figure size 432x288 with 1 Axes>"
      ]
     },
     "metadata": {
      "needs_background": "light"
     },
     "output_type": "display_data"
    },
    {
     "name": "stdout",
     "output_type": "stream",
     "text": [
      "Predicted 0 \n",
      "----------------------------------------------------------------------------------------------------\n",
      "Actual\n"
     ]
    },
    {
     "data": {
      "image/png": "[encoded data removed]",
      "text/plain": [
       "<Figure size 432x288 with 1 Axes>"
      ]
     },
     "metadata": {
      "needs_background": "light"
     },
     "output_type": "display_data"
    },
    {
     "name": "stdout",
     "output_type": "stream",
     "text": [
      "Predicted 0 \n",
      "----------------------------------------------------------------------------------------------------\n",
      "Actual\n"
     ]
    },
    {
     "data": {
      "image/png": "[encoded data removed]",
      "text/plain": [
       "<Figure size 432x288 with 1 Axes>"
      ]
     },
     "metadata": {
      "needs_background": "light"
     },
     "output_type": "display_data"
    },
    {
     "name": "stdout",
     "output_type": "stream",
     "text": [
      "Predicted 8 \n",
      "----------------------------------------------------------------------------------------------------\n"
     ]
    }
   ],
   "source": [
    "for i in range(3):\n",
    "    print(\"Actual\")\n",
    "    plt.imshow(xtest[:,i].reshape(28, 28), cmap = 'gray')\n",
    "    plt.show()\n",
    "    print(\"Predicted {} \".format(np.argmax(YP[:,i], 0)))\n",
    "    print(\"-\"*100)\n",
    "    "
   ]
  },
  {
   "cell_type": "markdown",
   "metadata": {},
   "source": [
    "# Regularization Frobenius norm"
   ]
  },
  {
   "cell_type": "code",
   "execution_count": 35,
   "metadata": {},
   "outputs": [],
   "source": [
    "def forward_propagation_with_reg(parameters,X,Y,lambd):\n",
    "    layers=len(parameters)//2\n",
    "    cache={}\n",
    "    A_prev=X\n",
    "    m=X.shape[1]\n",
    "    reg=0\n",
    "    for i in range(1,layers):\n",
    "        reg=reg+np.sum(np.square(parameters[\"W\"+str(i)]))\n",
    "        Z=np.dot(parameters[\"W\"+str(i)],A_prev)+parameters[\"b\"+str(i)]\n",
    "        A=relu(Z)\n",
    "        cache[\"Z\"+str(i)]=Z\n",
    "        cache[\"A\"+str(i)]=A\n",
    "        A_prev=A\n",
    "    \n",
    "    reg=reg+np.sum((parameters[\"W\"+str(i+1)])**2)   \n",
    "    Z=np.dot(parameters[\"W\"+str(i+1)],A_prev)+parameters[\"b\"+str(i+1)]\n",
    "    Yp=sigmoid(Z)\n",
    "    cache[\"Z\"+str(i+1)]=Z\n",
    "    cache[\"A\"+str(i+1)]=Yp\n",
    "    \n",
    "    \n",
    "        \n",
    "    \n",
    "    cost=-(1/m)*np.sum(Y*np.log(Yp)+((1-Y)*np.log(1-Yp)))+(lambd/(2*m))*reg\n",
    "                                                              \n",
    "    return cost,cache"
   ]
  },
  {
   "cell_type": "code",
   "execution_count": 36,
   "metadata": {},
   "outputs": [],
   "source": [
    "def backward_propagation_with_reg(X,Y,cache,parameters,lambd):\n",
    "    layers=len(cache)//2\n",
    "    bp={}\n",
    "    m=X.shape[1]\n",
    "    AL=cache[\"A\"+str(layers)]\n",
    "    AL_1=cache[\"A\"+str(layers-1)]\n",
    "    WL=parameters[\"W\"+str(layers)]\n",
    "    dZ=AL-Y\n",
    "    dW = 1. / m * np.dot(dZ,AL_1.T)+(lambd/m)*WL\n",
    "    db = 1. / m * np.sum(dZ, axis=1, keepdims=True)\n",
    "    \n",
    "    bp[\"dZ\"+str(layers)]=dZ\n",
    "    bp[\"dW\"+str(layers)]=dW\n",
    "    bp[\"db\"+str(layers)]=db\n",
    "    for i in range(layers-1,0,-1):\n",
    "        dZ=bp[\"dZ\"+str(i+1)]\n",
    "        W=parameters[\"W\"+str(i+1)]\n",
    "        WL=parameters[\"W\"+str(i)]\n",
    "        A=cache[\"A\"+str(i)]\n",
    "        if i > 1:\n",
    "            AL_1=cache[\"A\"+str(i-1)]\n",
    "        else:\n",
    "            AL_1=X\n",
    "            \n",
    "        dA=np.dot(W.T,dZ)\n",
    "        dZ=np.multiply(dA,derivative_of_relu(A))\n",
    "        dW=1. / m * np.dot(dZ,AL_1.T)+ (lambd/m)*WL\n",
    "        db = 1. / m * np.sum(dZ, axis=1, keepdims=True)\n",
    "        \n",
    "        bp[\"dZ\"+str(i)]=dZ\n",
    "        bp[\"dW\"+str(i)]=dW\n",
    "        bp[\"db\"+str(i)]=db\n",
    "        \n",
    "        \n",
    "        \n",
    "    return bp\n",
    "        \n",
    "        \n",
    "    "
   ]
  },
  {
   "cell_type": "code",
   "execution_count": 37,
   "metadata": {},
   "outputs": [],
   "source": [
    "def model_reg(X,Y,layers,lambd,lr=0.01,itern=100):\n",
    "    \n",
    "    parameters=weight_and_bias_init(layers)\n",
    "    \n",
    "    para=parameters.copy()\n",
    "    for i in range(itern):\n",
    "        cost,cache=forward_propagation_with_reg(para,X,Y,lambd)\n",
    "        if i%10==0 or i==itern-1:\n",
    "            print(f\"Epoch {i} cost {cost}\" )\n",
    "        \n",
    "        backward=backward_propagation_with_reg(X,Y,cache,para,lambd)\n",
    "        \n",
    "        for j in range((len(cache)//2),0,-1):\n",
    "            dW=backward[\"dW\"+str(j)]\n",
    "            db=backward[\"db\"+str(j)]\n",
    "            W=para[\"W\"+str(j)]\n",
    "            b=para[\"b\"+str(j)]\n",
    "            \n",
    "            W=W-lr*dW\n",
    "            b=b-lr*db\n",
    "            para[\"W\"+str(j)]=W\n",
    "            para[\"b\"+str(j)]=b\n",
    "            \n",
    "            \n",
    "    return para\n",
    "            \n",
    "            \n",
    "        "
   ]
  },
  {
   "cell_type": "code",
   "execution_count": 47,
   "metadata": {},
   "outputs": [
    {
     "name": "stdout",
     "output_type": "stream",
     "text": [
      "Epoch 0 cost 7.098904220718515\n",
      "Epoch 10 cost 3.3824144554901623\n",
      "Epoch 20 cost 3.405468790010044\n",
      "Epoch 30 cost 2.727379876661664\n",
      "Epoch 40 cost 2.021735903306594\n",
      "Epoch 50 cost 1.5914716584768949\n",
      "Epoch 60 cost 1.2246998721644498\n",
      "Epoch 70 cost 1.041865664363453\n",
      "Epoch 80 cost 0.9501084574473846\n",
      "Epoch 90 cost 0.8198804949964597\n",
      "Epoch 100 cost 0.661513756611272\n",
      "Epoch 110 cost 0.5507921450382501\n",
      "Epoch 120 cost 0.5597082711781877\n",
      "Epoch 130 cost 0.4090129688205472\n",
      "Epoch 140 cost 0.335461704802021\n",
      "Epoch 150 cost 0.2868507023983687\n",
      "Epoch 160 cost 0.43950486274854295\n",
      "Epoch 170 cost 0.2219406641919658\n",
      "Epoch 180 cost 0.18957124562272137\n",
      "Epoch 190 cost 0.16659003862413613\n",
      "Epoch 199 cost 0.15008921812801948\n"
     ]
    }
   ],
   "source": [
    "params=model_reg(Xdf,Ydf,[784,1000,500,60,10],0.6,lr=0.01,itern=200)"
   ]
  },
  {
   "cell_type": "code",
   "execution_count": 48,
   "metadata": {},
   "outputs": [],
   "source": [
    "YP_reg=predict(xtest,params)\n"
   ]
  },
  {
   "cell_type": "code",
   "execution_count": 49,
   "metadata": {},
   "outputs": [
    {
     "name": "stdout",
     "output_type": "stream",
     "text": [
      "Accuracy 88.83\n"
     ]
    }
   ],
   "source": [
    "accuracy(ytest,YP_reg)"
   ]
  },
  {
   "cell_type": "code",
   "execution_count": null,
   "metadata": {},
   "outputs": [],
   "source": []
  },
  {
   "cell_type": "code",
   "execution_count": null,
   "metadata": {},
   "outputs": [],
   "source": []
  }
 ],
 "metadata": {
  "kernelspec": {
   "display_name": "Python 3",
   "language": "python",
   "name": "python3"
  },
  "language_info": {
   "codemirror_mode": {
    "name": "ipython",
    "version": 3
   },
   "file_extension": ".py",
   "mimetype": "text/x-python",
   "name": "python",
   "nbconvert_exporter": "python",
   "pygments_lexer": "ipython3",
   "version": "3.7.3"
  }
 },
 "nbformat": 4,
 "nbformat_minor": 2
}
